{
 "cells": [
  {
   "cell_type": "code",
   "execution_count": 1,
   "source": [
    "import os\n",
    "from glob import glob\n",
    "import re\n",
    "from tables.ground_truth_tables import ScenatioProps\n",
    "from database_creator import DatabaseCreator, DatabaseProps\n",
    "\n",
    "\n",
    "db_props = DatabaseProps()\n",
    "db_props.port = 8888\n",
    "os.environ['PGPASSWORD'] = 'neor123'\n",
    "dbc = DatabaseCreator()\n",
    "\n"
   ],
   "outputs": [
    {
     "output_type": "error",
     "ename": "ImportError",
     "evalue": "attempted relative import with no known parent package",
     "traceback": [
      "\u001b[0;31m---------------------------------------------------------------------------\u001b[0m",
      "\u001b[0;31mImportError\u001b[0m                               Traceback (most recent call last)",
      "\u001b[0;32m<ipython-input-1-58ef19a890fd>\u001b[0m in \u001b[0;36m<module>\u001b[0;34m\u001b[0m\n\u001b[1;32m      3\u001b[0m \u001b[0;32mimport\u001b[0m \u001b[0mre\u001b[0m\u001b[0;34m\u001b[0m\u001b[0;34m\u001b[0m\u001b[0m\n\u001b[1;32m      4\u001b[0m \u001b[0;32mfrom\u001b[0m \u001b[0mtables\u001b[0m\u001b[0;34m.\u001b[0m\u001b[0mground_truth_tables\u001b[0m \u001b[0;32mimport\u001b[0m \u001b[0mScenatioProps\u001b[0m\u001b[0;34m\u001b[0m\u001b[0;34m\u001b[0m\u001b[0m\n\u001b[0;32m----> 5\u001b[0;31m \u001b[0;32mfrom\u001b[0m \u001b[0mdatabase_creator\u001b[0m \u001b[0;32mimport\u001b[0m \u001b[0mDatabaseCreator\u001b[0m\u001b[0;34m,\u001b[0m \u001b[0mDatabaseProps\u001b[0m\u001b[0;34m\u001b[0m\u001b[0;34m\u001b[0m\u001b[0m\n\u001b[0m\u001b[1;32m      6\u001b[0m \u001b[0;34m\u001b[0m\u001b[0m\n\u001b[1;32m      7\u001b[0m \u001b[0;34m\u001b[0m\u001b[0m\n",
      "\u001b[0;32m~/Thesis/database/mot_postgres/database_creator.py\u001b[0m in \u001b[0;36m<module>\u001b[0;34m\u001b[0m\n\u001b[0;32m----> 1\u001b[0;31m \u001b[0;32mfrom\u001b[0m \u001b[0;34m.\u001b[0m\u001b[0mtables\u001b[0m\u001b[0;34m.\u001b[0m\u001b[0mtracker_tables\u001b[0m \u001b[0;32mimport\u001b[0m \u001b[0mTargetFrameEvalProps\u001b[0m\u001b[0;34m,\u001b[0m \u001b[0mTrackerEvalProps\u001b[0m\u001b[0;34m,\u001b[0m \u001b[0mTrackers\u001b[0m\u001b[0;34m,\u001b[0m \u001b[0mTargetFrameEval\u001b[0m\u001b[0;34m,\u001b[0m \u001b[0mTrackerEval\u001b[0m\u001b[0;34m,\u001b[0m \u001b[0mTrackerScenarioEval\u001b[0m\u001b[0;34m\u001b[0m\u001b[0;34m\u001b[0m\u001b[0m\n\u001b[0m\u001b[1;32m      2\u001b[0m \u001b[0;32mfrom\u001b[0m \u001b[0mtyping\u001b[0m \u001b[0;32mimport\u001b[0m \u001b[0mOptional\u001b[0m\u001b[0;34m,\u001b[0m \u001b[0mList\u001b[0m\u001b[0;34m,\u001b[0m \u001b[0mDict\u001b[0m\u001b[0;34m\u001b[0m\u001b[0;34m\u001b[0m\u001b[0m\n\u001b[1;32m      3\u001b[0m \u001b[0;32mfrom\u001b[0m \u001b[0msqlalchemy\u001b[0m \u001b[0;32mimport\u001b[0m \u001b[0mcreate_engine\u001b[0m\u001b[0;34m,\u001b[0m \u001b[0mand_\u001b[0m\u001b[0;34m\u001b[0m\u001b[0;34m\u001b[0m\u001b[0m\n\u001b[1;32m      4\u001b[0m \u001b[0;32mfrom\u001b[0m \u001b[0msqlalchemy\u001b[0m\u001b[0;34m.\u001b[0m\u001b[0morm\u001b[0m \u001b[0;32mimport\u001b[0m \u001b[0mSession\u001b[0m\u001b[0;34m\u001b[0m\u001b[0;34m\u001b[0m\u001b[0m\n\u001b[1;32m      5\u001b[0m \u001b[0;32mfrom\u001b[0m \u001b[0msqlalchemy\u001b[0m\u001b[0;34m.\u001b[0m\u001b[0mdialects\u001b[0m\u001b[0;34m.\u001b[0m\u001b[0mpostgresql\u001b[0m \u001b[0;32mimport\u001b[0m \u001b[0minsert\u001b[0m\u001b[0;34m\u001b[0m\u001b[0;34m\u001b[0m\u001b[0m\n",
      "\u001b[0;31mImportError\u001b[0m: attempted relative import with no known parent package"
     ]
    }
   ],
   "metadata": {}
  },
  {
   "cell_type": "code",
   "execution_count": 1,
   "source": [
    "import os\n",
    "from glob import glob\n",
    "import re\n",
    "import numpy as np\n",
    "pattern = 'gt_data/*/train/*/gt/gt.txt'\n",
    "sequence_pattern = 'gt_data/(.*?)Labels/train/'\n",
    "scenario_pattern = 'train/(.*?)/gt'\n",
    "files = glob(pattern)\n",
    "for idx, file in enumerate(files):\n",
    "    detections_array = np.loadtxt(file,delimiter=',',ndmin=2)\n",
    "    sequnce_name = re.findall(sequence_pattern, file).findall()\n",
    "    scenario_name =  re.findall(scenario_pattern, file).findall()\n",
    "    for row in detections_array:\n",
    "        frame_id = row[0]\n",
    "        target_id = row[1]\n",
    " \n",
    "    if sequnce_name == \"MOT20\":\n",
    "        pass\n",
    "    else:\n",
    "        pass\n",
    "\n",
    "\n"
   ],
   "outputs": [
    {
     "output_type": "error",
     "ename": "AttributeError",
     "evalue": "'list' object has no attribute 'findall'",
     "traceback": [
      "\u001b[0;31m---------------------------------------------------------------------------\u001b[0m",
      "\u001b[0;31mAttributeError\u001b[0m                            Traceback (most recent call last)",
      "\u001b[0;32m/tmp/ipykernel_15563/3620518907.py\u001b[0m in \u001b[0;36m<module>\u001b[0;34m\u001b[0m\n\u001b[1;32m      9\u001b[0m \u001b[0;32mfor\u001b[0m \u001b[0midx\u001b[0m\u001b[0;34m,\u001b[0m \u001b[0mfile\u001b[0m \u001b[0;32min\u001b[0m \u001b[0menumerate\u001b[0m\u001b[0;34m(\u001b[0m\u001b[0mfiles\u001b[0m\u001b[0;34m)\u001b[0m\u001b[0;34m:\u001b[0m\u001b[0;34m\u001b[0m\u001b[0;34m\u001b[0m\u001b[0m\n\u001b[1;32m     10\u001b[0m     \u001b[0mdetections_array\u001b[0m \u001b[0;34m=\u001b[0m \u001b[0mnp\u001b[0m\u001b[0;34m.\u001b[0m\u001b[0mloadtxt\u001b[0m\u001b[0;34m(\u001b[0m\u001b[0mfile\u001b[0m\u001b[0;34m,\u001b[0m\u001b[0mdelimiter\u001b[0m\u001b[0;34m=\u001b[0m\u001b[0;34m','\u001b[0m\u001b[0;34m,\u001b[0m\u001b[0mndmin\u001b[0m\u001b[0;34m=\u001b[0m\u001b[0;36m2\u001b[0m\u001b[0;34m)\u001b[0m\u001b[0;34m\u001b[0m\u001b[0;34m\u001b[0m\u001b[0m\n\u001b[0;32m---> 11\u001b[0;31m     \u001b[0msequnce_name\u001b[0m \u001b[0;34m=\u001b[0m \u001b[0mre\u001b[0m\u001b[0;34m.\u001b[0m\u001b[0mfindall\u001b[0m\u001b[0;34m(\u001b[0m\u001b[0msequence_pattern\u001b[0m\u001b[0;34m,\u001b[0m \u001b[0mfile\u001b[0m\u001b[0;34m)\u001b[0m\u001b[0;34m.\u001b[0m\u001b[0mfindall\u001b[0m\u001b[0;34m(\u001b[0m\u001b[0;34m)\u001b[0m\u001b[0;34m\u001b[0m\u001b[0;34m\u001b[0m\u001b[0m\n\u001b[0m\u001b[1;32m     12\u001b[0m     \u001b[0mscenario_name\u001b[0m \u001b[0;34m=\u001b[0m  \u001b[0mre\u001b[0m\u001b[0;34m.\u001b[0m\u001b[0mfindall\u001b[0m\u001b[0;34m(\u001b[0m\u001b[0mscenario_pattern\u001b[0m\u001b[0;34m,\u001b[0m \u001b[0mfile\u001b[0m\u001b[0;34m)\u001b[0m\u001b[0;34m.\u001b[0m\u001b[0mfindall\u001b[0m\u001b[0;34m(\u001b[0m\u001b[0;34m)\u001b[0m\u001b[0;34m\u001b[0m\u001b[0;34m\u001b[0m\u001b[0m\n\u001b[1;32m     13\u001b[0m     \u001b[0;32mfor\u001b[0m \u001b[0mrow\u001b[0m \u001b[0;32min\u001b[0m \u001b[0mdetections_array\u001b[0m\u001b[0;34m:\u001b[0m\u001b[0;34m\u001b[0m\u001b[0;34m\u001b[0m\u001b[0m\n",
      "\u001b[0;31mAttributeError\u001b[0m: 'list' object has no attribute 'findall'"
     ]
    }
   ],
   "metadata": {}
  },
  {
   "cell_type": "code",
   "execution_count": 6,
   "source": [
    "pattern = 'gt_data/*/train/*/gt/gt.txt'\n",
    "sequence_pattern = 'gt_data/(.*?)Labels/train/'\n",
    "scenario_pattern = 'train/(.*?)/gt'\n",
    "files = glob(pattern)"
   ],
   "outputs": [
    {
     "output_type": "stream",
     "name": "stdout",
     "text": [
      "(202215, 9)\n"
     ]
    }
   ],
   "metadata": {}
  },
  {
   "cell_type": "code",
   "execution_count": 2,
   "source": [
    "pattern = 'gt_data/*/train/*/gt/gt.txt'\n",
    "sequence_pattern = 'gt_data/(.*?)Labels/train/'\n",
    "scenario_pattern = 'train/(.*?)/gt'\n",
    "files = glob(pattern) "
   ],
   "outputs": [],
   "metadata": {}
  },
  {
   "cell_type": "code",
   "execution_count": 3,
   "source": [
    "files"
   ],
   "outputs": [
    {
     "output_type": "execute_result",
     "data": {
      "text/plain": [
       "['gt_data/MOT20Labels/train/MOT20-02/gt/gt.txt',\n",
       " 'gt_data/MOT20Labels/train/MOT20-01/gt/gt.txt',\n",
       " 'gt_data/MOT20Labels/train/MOT20-03/gt/gt.txt',\n",
       " 'gt_data/MOT20Labels/train/MOT20-05/gt/gt.txt',\n",
       " 'gt_data/MOT15Labels/train/ADL-Rundle-6/gt/gt.txt',\n",
       " 'gt_data/MOT15Labels/train/TUD-Stadtmitte/gt/gt.txt',\n",
       " 'gt_data/MOT15Labels/train/ETH-Sunnyday/gt/gt.txt',\n",
       " 'gt_data/MOT15Labels/train/ETH-Bahnhof/gt/gt.txt',\n",
       " 'gt_data/MOT15Labels/train/TUD-Campus/gt/gt.txt',\n",
       " 'gt_data/MOT15Labels/train/Venice-2/gt/gt.txt',\n",
       " 'gt_data/MOT15Labels/train/KITTI-17/gt/gt.txt',\n",
       " 'gt_data/MOT15Labels/train/ADL-Rundle-8/gt/gt.txt',\n",
       " 'gt_data/MOT15Labels/train/ETH-Pedcross2/gt/gt.txt',\n",
       " 'gt_data/MOT15Labels/train/PETS09-S2L1/gt/gt.txt',\n",
       " 'gt_data/MOT15Labels/train/KITTI-13/gt/gt.txt',\n",
       " 'gt_data/MOT17DetLabels/train/MOT17-11/gt/gt.txt',\n",
       " 'gt_data/MOT17DetLabels/train/MOT17-02/gt/gt.txt',\n",
       " 'gt_data/MOT17DetLabels/train/MOT17-09/gt/gt.txt',\n",
       " 'gt_data/MOT17DetLabels/train/MOT17-10/gt/gt.txt',\n",
       " 'gt_data/MOT17DetLabels/train/MOT17-13/gt/gt.txt',\n",
       " 'gt_data/MOT17DetLabels/train/MOT17-04/gt/gt.txt',\n",
       " 'gt_data/MOT17DetLabels/train/MOT17-05/gt/gt.txt',\n",
       " 'gt_data/MOT17Labels/train/MOT17-13-DPM/gt/gt.txt',\n",
       " 'gt_data/MOT17Labels/train/MOT17-11-FRCNN/gt/gt.txt',\n",
       " 'gt_data/MOT17Labels/train/MOT17-02-SDP/gt/gt.txt',\n",
       " 'gt_data/MOT17Labels/train/MOT17-02-DPM/gt/gt.txt',\n",
       " 'gt_data/MOT17Labels/train/MOT17-09-FRCNN/gt/gt.txt',\n",
       " 'gt_data/MOT17Labels/train/MOT17-09-SDP/gt/gt.txt',\n",
       " 'gt_data/MOT17Labels/train/MOT17-11-DPM/gt/gt.txt',\n",
       " 'gt_data/MOT17Labels/train/MOT17-13-FRCNN/gt/gt.txt',\n",
       " 'gt_data/MOT17Labels/train/MOT17-04-FRCNN/gt/gt.txt',\n",
       " 'gt_data/MOT17Labels/train/MOT17-02-FRCNN/gt/gt.txt',\n",
       " 'gt_data/MOT17Labels/train/MOT17-09-DPM/gt/gt.txt',\n",
       " 'gt_data/MOT17Labels/train/MOT17-11-SDP/gt/gt.txt',\n",
       " 'gt_data/MOT17Labels/train/MOT17-13-SDP/gt/gt.txt',\n",
       " 'gt_data/MOT17Labels/train/MOT17-05-DPM/gt/gt.txt',\n",
       " 'gt_data/MOT17Labels/train/MOT17-05-SDP/gt/gt.txt',\n",
       " 'gt_data/MOT17Labels/train/MOT17-10-DPM/gt/gt.txt',\n",
       " 'gt_data/MOT17Labels/train/MOT17-05-FRCNN/gt/gt.txt',\n",
       " 'gt_data/MOT17Labels/train/MOT17-10-FRCNN/gt/gt.txt',\n",
       " 'gt_data/MOT17Labels/train/MOT17-04-DPM/gt/gt.txt',\n",
       " 'gt_data/MOT17Labels/train/MOT17-10-SDP/gt/gt.txt',\n",
       " 'gt_data/MOT17Labels/train/MOT17-04-SDP/gt/gt.txt',\n",
       " 'gt_data/MOT16Labels/train/MOT16-13/gt/gt.txt',\n",
       " 'gt_data/MOT16Labels/train/MOT16-02/gt/gt.txt',\n",
       " 'gt_data/MOT16Labels/train/MOT16-09/gt/gt.txt',\n",
       " 'gt_data/MOT16Labels/train/MOT16-05/gt/gt.txt',\n",
       " 'gt_data/MOT16Labels/train/MOT16-10/gt/gt.txt',\n",
       " 'gt_data/MOT16Labels/train/MOT16-04/gt/gt.txt',\n",
       " 'gt_data/MOT16Labels/train/MOT16-11/gt/gt.txt']"
      ]
     },
     "metadata": {},
     "execution_count": 3
    }
   ],
   "metadata": {}
  },
  {
   "cell_type": "code",
   "execution_count": null,
   "source": [],
   "outputs": [],
   "metadata": {}
  }
 ],
 "metadata": {
  "orig_nbformat": 4,
  "language_info": {
   "name": "python",
   "version": "3.8.10",
   "mimetype": "text/x-python",
   "codemirror_mode": {
    "name": "ipython",
    "version": 3
   },
   "pygments_lexer": "ipython3",
   "nbconvert_exporter": "python",
   "file_extension": ".py"
  },
  "kernelspec": {
   "name": "python3",
   "display_name": "Python 3.8.10 64-bit ('main_env': venv)"
  },
  "interpreter": {
   "hash": "6d57bdcc532f6796f4804ec93a93484f91bd282322fce1a245aba03ad48d9155"
  }
 },
 "nbformat": 4,
 "nbformat_minor": 2
}